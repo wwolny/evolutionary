{
 "cells": [
  {
   "cell_type": "markdown",
   "metadata": {},
   "source": [
    "# 1.5 Karty\n",
    "## PSZT\n",
    "### Grzegorz Rypeść\n",
    "### Wojciech Wolny"
   ]
  },
  {
   "cell_type": "code",
   "execution_count": 2,
   "metadata": {},
   "outputs": [],
   "source": [
    "import pandas as pd\n",
    "import seaborn as sns\n",
    "import matplotlib.pyplot as plt"
   ]
  },
  {
   "cell_type": "code",
   "execution_count": 3,
   "metadata": {},
   "outputs": [
    {
     "data": {
      "text/html": [
       "<div>\n",
       "<style scoped>\n",
       "    .dataframe tbody tr th:only-of-type {\n",
       "        vertical-align: middle;\n",
       "    }\n",
       "\n",
       "    .dataframe tbody tr th {\n",
       "        vertical-align: top;\n",
       "    }\n",
       "\n",
       "    .dataframe thead th {\n",
       "        text-align: right;\n",
       "    }\n",
       "</style>\n",
       "<table border=\"1\" class=\"dataframe\">\n",
       "  <thead>\n",
       "    <tr style=\"text-align: right;\">\n",
       "      <th></th>\n",
       "      <th>envLoss</th>\n",
       "      <th>bestFit</th>\n",
       "      <th>bestFitLoss</th>\n",
       "    </tr>\n",
       "  </thead>\n",
       "  <tbody>\n",
       "    <tr>\n",
       "      <th>0</th>\n",
       "      <td>622.833649</td>\n",
       "      <td>A: \\nB: 1, 2, 3, 4, 5, 6, 7, 8, 10, \\n</td>\n",
       "      <td>13.0</td>\n",
       "    </tr>\n",
       "    <tr>\n",
       "      <th>1</th>\n",
       "      <td>620.701139</td>\n",
       "      <td>A: \\nB: 1, 2, 3, 4, 5, 6, 7, 8, 10, \\n</td>\n",
       "      <td>13.0</td>\n",
       "    </tr>\n",
       "    <tr>\n",
       "      <th>2</th>\n",
       "      <td>620.353919</td>\n",
       "      <td>A: \\nB: 1, 2, 3, 4, 5, 6, 7, 8, 10, \\n</td>\n",
       "      <td>13.0</td>\n",
       "    </tr>\n",
       "    <tr>\n",
       "      <th>3</th>\n",
       "      <td>608.667820</td>\n",
       "      <td>A: \\nB: 1, 2, 3, 4, 5, 6, 7, 8, 10, \\n</td>\n",
       "      <td>13.0</td>\n",
       "    </tr>\n",
       "    <tr>\n",
       "      <th>4</th>\n",
       "      <td>594.739535</td>\n",
       "      <td>A: \\nB: 1, 2, 3, 4, 5, 6, 7, 8, 10, \\n</td>\n",
       "      <td>13.0</td>\n",
       "    </tr>\n",
       "  </tbody>\n",
       "</table>\n",
       "</div>"
      ],
      "text/plain": [
       "      envLoss                                 bestFit  bestFitLoss\n",
       "0  622.833649  A: \\nB: 1, 2, 3, 4, 5, 6, 7, 8, 10, \\n         13.0\n",
       "1  620.701139  A: \\nB: 1, 2, 3, 4, 5, 6, 7, 8, 10, \\n         13.0\n",
       "2  620.353919  A: \\nB: 1, 2, 3, 4, 5, 6, 7, 8, 10, \\n         13.0\n",
       "3  608.667820  A: \\nB: 1, 2, 3, 4, 5, 6, 7, 8, 10, \\n         13.0\n",
       "4  594.739535  A: \\nB: 1, 2, 3, 4, 5, 6, 7, 8, 10, \\n         13.0"
      ]
     },
     "execution_count": 3,
     "metadata": {},
     "output_type": "execute_result"
    }
   ],
   "source": [
    "onePlusOne = pd.read_csv('onePlusOne.csv')\n",
    "lambdaMi = pd.read_csv('miPlusLambda.csv')\n",
    "onePlusOne.head()"
   ]
  },
  {
   "cell_type": "code",
   "execution_count": 7,
   "metadata": {},
   "outputs": [
    {
     "data": {
      "text/html": [
       "<div>\n",
       "<style scoped>\n",
       "    .dataframe tbody tr th:only-of-type {\n",
       "        vertical-align: middle;\n",
       "    }\n",
       "\n",
       "    .dataframe tbody tr th {\n",
       "        vertical-align: top;\n",
       "    }\n",
       "\n",
       "    .dataframe thead th {\n",
       "        text-align: right;\n",
       "    }\n",
       "</style>\n",
       "<table border=\"1\" class=\"dataframe\">\n",
       "  <thead>\n",
       "    <tr style=\"text-align: right;\">\n",
       "      <th></th>\n",
       "      <th>Loss</th>\n",
       "      <th>Algorithm</th>\n",
       "      <th>Ind</th>\n",
       "    </tr>\n",
       "  </thead>\n",
       "  <tbody>\n",
       "    <tr>\n",
       "      <th>0</th>\n",
       "      <td>13.0</td>\n",
       "      <td>onePlusOne</td>\n",
       "      <td>0</td>\n",
       "    </tr>\n",
       "    <tr>\n",
       "      <th>1</th>\n",
       "      <td>13.0</td>\n",
       "      <td>onePlusOne</td>\n",
       "      <td>1</td>\n",
       "    </tr>\n",
       "    <tr>\n",
       "      <th>2</th>\n",
       "      <td>13.0</td>\n",
       "      <td>onePlusOne</td>\n",
       "      <td>2</td>\n",
       "    </tr>\n",
       "    <tr>\n",
       "      <th>3</th>\n",
       "      <td>13.0</td>\n",
       "      <td>onePlusOne</td>\n",
       "      <td>3</td>\n",
       "    </tr>\n",
       "    <tr>\n",
       "      <th>4</th>\n",
       "      <td>13.0</td>\n",
       "      <td>onePlusOne</td>\n",
       "      <td>4</td>\n",
       "    </tr>\n",
       "  </tbody>\n",
       "</table>\n",
       "</div>"
      ],
      "text/plain": [
       "   Loss   Algorithm  Ind\n",
       "0  13.0  onePlusOne    0\n",
       "1  13.0  onePlusOne    1\n",
       "2  13.0  onePlusOne    2\n",
       "3  13.0  onePlusOne    3\n",
       "4  13.0  onePlusOne    4"
      ]
     },
     "execution_count": 7,
     "metadata": {},
     "output_type": "execute_result"
    }
   ],
   "source": [
    "test = pd.DataFrame()\n",
    "test[\"Loss\"]=onePlusOne.bestFitLoss.append(lambdaMi.bestFitLoss)\n",
    "one =[\"onePlusOne\"]*len(compareBest.onePlusOne)+[\"lambdaMi\"]*len(compareBest.onePlusOne)\n",
    "test[\"Algorithm\"] = one\n",
    "zeroToN =[i for i in range(len(compareBest.onePlusOne))]*2\n",
    "test[\"Ind\"] = pd.Series(zeroToN)\n",
    "test.head()"
   ]
  },
  {
   "cell_type": "code",
   "execution_count": 9,
   "metadata": {},
   "outputs": [
    {
     "data": {
      "text/plain": [
       "(0, 50)"
      ]
     },
     "execution_count": 9,
     "metadata": {},
     "output_type": "execute_result"
    },
    {
     "data": {
      "image/png": "[encoded data removed]",
      "text/plain": [
       "<Figure size 432x288 with 1 Axes>"
      ]
     },
     "metadata": {
      "needs_background": "light"
     },
     "output_type": "display_data"
    }
   ],
   "source": [
    "sns.lineplot(x=\"Ind\",y=\"Loss\", hue=\"Algorithm\", data=test)\n",
    "plt.ylim(0,50)\n",
    "plt.xlim(0,50)"
   ]
  },
  {
   "cell_type": "code",
   "execution_count": 10,
   "metadata": {},
   "outputs": [
    {
     "data": {
      "text/html": [
       "<div>\n",
       "<style scoped>\n",
       "    .dataframe tbody tr th:only-of-type {\n",
       "        vertical-align: middle;\n",
       "    }\n",
       "\n",
       "    .dataframe tbody tr th {\n",
       "        vertical-align: top;\n",
       "    }\n",
       "\n",
       "    .dataframe thead th {\n",
       "        text-align: right;\n",
       "    }\n",
       "</style>\n",
       "<table border=\"1\" class=\"dataframe\">\n",
       "  <thead>\n",
       "    <tr style=\"text-align: right;\">\n",
       "      <th></th>\n",
       "      <th>envLoss</th>\n",
       "      <th>Iteration</th>\n",
       "      <th>bestFitLoss</th>\n",
       "      <th>AB</th>\n",
       "    </tr>\n",
       "  </thead>\n",
       "  <tbody>\n",
       "    <tr>\n",
       "      <th>0</th>\n",
       "      <td>98.182321</td>\n",
       "      <td>38.806</td>\n",
       "      <td>0.622004</td>\n",
       "      <td>[15, 30]</td>\n",
       "    </tr>\n",
       "    <tr>\n",
       "      <th>1</th>\n",
       "      <td>131.234727</td>\n",
       "      <td>25.335</td>\n",
       "      <td>0.313151</td>\n",
       "      <td>[1, 20]</td>\n",
       "    </tr>\n",
       "    <tr>\n",
       "      <th>2</th>\n",
       "      <td>104.883199</td>\n",
       "      <td>35.917</td>\n",
       "      <td>0.757811</td>\n",
       "      <td>[1, 2]</td>\n",
       "    </tr>\n",
       "    <tr>\n",
       "      <th>3</th>\n",
       "      <td>63.062142</td>\n",
       "      <td>23.083</td>\n",
       "      <td>0.292142</td>\n",
       "      <td>[13, 11]</td>\n",
       "    </tr>\n",
       "    <tr>\n",
       "      <th>4</th>\n",
       "      <td>156.356392</td>\n",
       "      <td>47.328</td>\n",
       "      <td>1.939537</td>\n",
       "      <td>[9, 37]</td>\n",
       "    </tr>\n",
       "  </tbody>\n",
       "</table>\n",
       "</div>"
      ],
      "text/plain": [
       "      envLoss  Iteration  bestFitLoss        AB\n",
       "0   98.182321     38.806     0.622004  [15, 30]\n",
       "1  131.234727     25.335     0.313151   [1, 20]\n",
       "2  104.883199     35.917     0.757811    [1, 2]\n",
       "3   63.062142     23.083     0.292142  [13, 11]\n",
       "4  156.356392     47.328     1.939537   [9, 37]"
      ]
     },
     "execution_count": 10,
     "metadata": {},
     "output_type": "execute_result"
    }
   ],
   "source": [
    "onePlusOneTest = pd.read_csv('onePlusOneTest.csv')\n",
    "lambdaMiTest = pd.read_csv('miPlusLambdaTest.csv')\n",
    "onePlusOneTest.head()"
   ]
  },
  {
   "cell_type": "code",
   "execution_count": 11,
   "metadata": {},
   "outputs": [
    {
     "data": {
      "text/html": [
       "<div>\n",
       "<style scoped>\n",
       "    .dataframe tbody tr th:only-of-type {\n",
       "        vertical-align: middle;\n",
       "    }\n",
       "\n",
       "    .dataframe tbody tr th {\n",
       "        vertical-align: top;\n",
       "    }\n",
       "\n",
       "    .dataframe thead th {\n",
       "        text-align: right;\n",
       "    }\n",
       "</style>\n",
       "<table border=\"1\" class=\"dataframe\">\n",
       "  <thead>\n",
       "    <tr style=\"text-align: right;\">\n",
       "      <th></th>\n",
       "      <th>Iteration</th>\n",
       "      <th>Algorithm</th>\n",
       "      <th>AB</th>\n",
       "      <th>Loss</th>\n",
       "    </tr>\n",
       "  </thead>\n",
       "  <tbody>\n",
       "    <tr>\n",
       "      <th>0</th>\n",
       "      <td>38.806</td>\n",
       "      <td>onePlusOne</td>\n",
       "      <td>[15, 30]</td>\n",
       "      <td>0.622004</td>\n",
       "    </tr>\n",
       "    <tr>\n",
       "      <th>1</th>\n",
       "      <td>25.335</td>\n",
       "      <td>onePlusOne</td>\n",
       "      <td>[1, 20]</td>\n",
       "      <td>0.313151</td>\n",
       "    </tr>\n",
       "    <tr>\n",
       "      <th>2</th>\n",
       "      <td>35.917</td>\n",
       "      <td>onePlusOne</td>\n",
       "      <td>[1, 2]</td>\n",
       "      <td>0.757811</td>\n",
       "    </tr>\n",
       "    <tr>\n",
       "      <th>3</th>\n",
       "      <td>23.083</td>\n",
       "      <td>onePlusOne</td>\n",
       "      <td>[13, 11]</td>\n",
       "      <td>0.292142</td>\n",
       "    </tr>\n",
       "    <tr>\n",
       "      <th>4</th>\n",
       "      <td>47.328</td>\n",
       "      <td>onePlusOne</td>\n",
       "      <td>[9, 37]</td>\n",
       "      <td>1.939537</td>\n",
       "    </tr>\n",
       "  </tbody>\n",
       "</table>\n",
       "</div>"
      ],
      "text/plain": [
       "   Iteration   Algorithm        AB      Loss\n",
       "0     38.806  onePlusOne  [15, 30]  0.622004\n",
       "1     25.335  onePlusOne   [1, 20]  0.313151\n",
       "2     35.917  onePlusOne    [1, 2]  0.757811\n",
       "3     23.083  onePlusOne  [13, 11]  0.292142\n",
       "4     47.328  onePlusOne   [9, 37]  1.939537"
      ]
     },
     "execution_count": 11,
     "metadata": {},
     "output_type": "execute_result"
    }
   ],
   "source": [
    "Test = pd.DataFrame()\n",
    "Test[\"Iteration\"]=onePlusOneTest.Iteration.append(lambdaMiTest.Iteration)\n",
    "one =[\"onePlusOne\"]*len(lambdaMiTest.Iteration)+[\"lambdaMi\"]*len(lambdaMiTest.Iteration)\n",
    "Test[\"Algorithm\"] = one\n",
    "Test[\"AB\"] = onePlusOneTest.AB.append(lambdaMiTest.AB)\n",
    "Test[\"Loss\"] = onePlusOneTest.bestFitLoss.append(lambdaMiTest.bestFitLoss)\n",
    "Test.head()"
   ]
  },
  {
   "cell_type": "code",
   "execution_count": 12,
   "metadata": {},
   "outputs": [
    {
     "data": {
      "text/plain": [
       "<matplotlib.axes._subplots.AxesSubplot at 0x7f9f567ace10>"
      ]
     },
     "execution_count": 12,
     "metadata": {},
     "output_type": "execute_result"
    },
    {
     "data": {
      "image/png": "[encoded data removed]",
      "text/plain": [
       "<Figure size 432x288 with 1 Axes>"
      ]
     },
     "metadata": {
      "needs_background": "light"
     },
     "output_type": "display_data"
    }
   ],
   "source": [
    "sns.scatterplot(x=\"AB\",y=\"Iteration\", hue=\"Algorithm\", data=Test)"
   ]
  }
 ],
 "metadata": {
  "kernelspec": {
   "display_name": "studia",
   "language": "python",
   "name": "studia"
  },
  "language_info": {
   "codemirror_mode": {
    "name": "ipython",
    "version": 3
   },
   "file_extension": ".py",
   "mimetype": "text/x-python",
   "name": "python",
   "nbconvert_exporter": "python",
   "pygments_lexer": "ipython3",
   "version": "3.7.3"
  }
 },
 "nbformat": 4,
 "nbformat_minor": 2
}
