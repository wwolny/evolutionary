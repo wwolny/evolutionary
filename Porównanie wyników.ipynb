{
 "cells": [
  {
   "cell_type": "code",
   "execution_count": 1,
   "metadata": {},
   "outputs": [],
   "source": [
    "import pandas as pd\n",
    "import seaborn as sns\n",
    "import matplotlib.pyplot as plt"
   ]
  },
  {
   "cell_type": "code",
   "execution_count": 2,
   "metadata": {},
   "outputs": [
    {
     "data": {
      "text/html": [
       "<div>\n",
       "<style scoped>\n",
       "    .dataframe tbody tr th:only-of-type {\n",
       "        vertical-align: middle;\n",
       "    }\n",
       "\n",
       "    .dataframe tbody tr th {\n",
       "        vertical-align: top;\n",
       "    }\n",
       "\n",
       "    .dataframe thead th {\n",
       "        text-align: right;\n",
       "    }\n",
       "</style>\n",
       "<table border=\"1\" class=\"dataframe\">\n",
       "  <thead>\n",
       "    <tr style=\"text-align: right;\">\n",
       "      <th></th>\n",
       "      <th>envLoss</th>\n",
       "      <th>bestFit</th>\n",
       "      <th>bestFitLoss</th>\n",
       "    </tr>\n",
       "  </thead>\n",
       "  <tbody>\n",
       "    <tr>\n",
       "      <th>0</th>\n",
       "      <td>1034.843821</td>\n",
       "      <td>A: 6, 8, \\nB: 1, 2, 3, 5, 7, 9, \\n</td>\n",
       "      <td>13.152946</td>\n",
       "    </tr>\n",
       "    <tr>\n",
       "      <th>1</th>\n",
       "      <td>899.595810</td>\n",
       "      <td>A: 5, 7, \\nB: 1, 2, 3, 4, 6, 10, \\n</td>\n",
       "      <td>9.486833</td>\n",
       "    </tr>\n",
       "    <tr>\n",
       "      <th>2</th>\n",
       "      <td>781.870591</td>\n",
       "      <td>A: 3, 9, \\nB: 1, 2, 4, 5, 7, 8, \\n</td>\n",
       "      <td>8.062258</td>\n",
       "    </tr>\n",
       "    <tr>\n",
       "      <th>3</th>\n",
       "      <td>682.971123</td>\n",
       "      <td>A: 1, 5, 9, \\nB: 2, 3, 4, 6, 7, 8, \\n</td>\n",
       "      <td>7.810250</td>\n",
       "    </tr>\n",
       "    <tr>\n",
       "      <th>4</th>\n",
       "      <td>563.888353</td>\n",
       "      <td>A: 1, 5, 9, \\nB: 2, 3, 4, 6, 7, 8, \\n</td>\n",
       "      <td>7.810250</td>\n",
       "    </tr>\n",
       "  </tbody>\n",
       "</table>\n",
       "</div>"
      ],
      "text/plain": [
       "       envLoss                                bestFit  bestFitLoss\n",
       "0  1034.843821     A: 6, 8, \\nB: 1, 2, 3, 5, 7, 9, \\n    13.152946\n",
       "1   899.595810    A: 5, 7, \\nB: 1, 2, 3, 4, 6, 10, \\n     9.486833\n",
       "2   781.870591     A: 3, 9, \\nB: 1, 2, 4, 5, 7, 8, \\n     8.062258\n",
       "3   682.971123  A: 1, 5, 9, \\nB: 2, 3, 4, 6, 7, 8, \\n     7.810250\n",
       "4   563.888353  A: 1, 5, 9, \\nB: 2, 3, 4, 6, 7, 8, \\n     7.810250"
      ]
     },
     "execution_count": 2,
     "metadata": {},
     "output_type": "execute_result"
    }
   ],
   "source": [
    "onePlusOne = pd.read_csv('onePlusOne.csv')\n",
    "lambdaMi = pd.read_csv('miPlusLambda.csv')\n",
    "onePlusOne.head()"
   ]
  },
  {
   "cell_type": "code",
   "execution_count": 73,
   "metadata": {},
   "outputs": [
    {
     "data": {
      "text/html": [
       "<div>\n",
       "<style scoped>\n",
       "    .dataframe tbody tr th:only-of-type {\n",
       "        vertical-align: middle;\n",
       "    }\n",
       "\n",
       "    .dataframe tbody tr th {\n",
       "        vertical-align: top;\n",
       "    }\n",
       "\n",
       "    .dataframe thead th {\n",
       "        text-align: right;\n",
       "    }\n",
       "</style>\n",
       "<table border=\"1\" class=\"dataframe\">\n",
       "  <thead>\n",
       "    <tr style=\"text-align: right;\">\n",
       "      <th></th>\n",
       "      <th>Loss</th>\n",
       "      <th>Algorithm</th>\n",
       "      <th>Ind</th>\n",
       "    </tr>\n",
       "  </thead>\n",
       "  <tbody>\n",
       "    <tr>\n",
       "      <th>0</th>\n",
       "      <td>13.152946</td>\n",
       "      <td>onePlusOne</td>\n",
       "      <td>0</td>\n",
       "    </tr>\n",
       "    <tr>\n",
       "      <th>1</th>\n",
       "      <td>9.486833</td>\n",
       "      <td>onePlusOne</td>\n",
       "      <td>1</td>\n",
       "    </tr>\n",
       "    <tr>\n",
       "      <th>2</th>\n",
       "      <td>8.062258</td>\n",
       "      <td>onePlusOne</td>\n",
       "      <td>2</td>\n",
       "    </tr>\n",
       "    <tr>\n",
       "      <th>3</th>\n",
       "      <td>7.810250</td>\n",
       "      <td>onePlusOne</td>\n",
       "      <td>3</td>\n",
       "    </tr>\n",
       "    <tr>\n",
       "      <th>4</th>\n",
       "      <td>7.810250</td>\n",
       "      <td>onePlusOne</td>\n",
       "      <td>4</td>\n",
       "    </tr>\n",
       "    <tr>\n",
       "      <th>...</th>\n",
       "      <td>...</td>\n",
       "      <td>...</td>\n",
       "      <td>...</td>\n",
       "    </tr>\n",
       "    <tr>\n",
       "      <th>44</th>\n",
       "      <td>0.000000</td>\n",
       "      <td>lambdaMi</td>\n",
       "      <td>44</td>\n",
       "    </tr>\n",
       "    <tr>\n",
       "      <th>45</th>\n",
       "      <td>0.000000</td>\n",
       "      <td>lambdaMi</td>\n",
       "      <td>45</td>\n",
       "    </tr>\n",
       "    <tr>\n",
       "      <th>46</th>\n",
       "      <td>0.000000</td>\n",
       "      <td>lambdaMi</td>\n",
       "      <td>46</td>\n",
       "    </tr>\n",
       "    <tr>\n",
       "      <th>47</th>\n",
       "      <td>0.000000</td>\n",
       "      <td>lambdaMi</td>\n",
       "      <td>47</td>\n",
       "    </tr>\n",
       "    <tr>\n",
       "      <th>48</th>\n",
       "      <td>0.000000</td>\n",
       "      <td>lambdaMi</td>\n",
       "      <td>48</td>\n",
       "    </tr>\n",
       "  </tbody>\n",
       "</table>\n",
       "<p>99 rows × 3 columns</p>\n",
       "</div>"
      ],
      "text/plain": [
       "         Loss   Algorithm  Ind\n",
       "0   13.152946  onePlusOne    0\n",
       "1    9.486833  onePlusOne    1\n",
       "2    8.062258  onePlusOne    2\n",
       "3    7.810250  onePlusOne    3\n",
       "4    7.810250  onePlusOne    4\n",
       "..        ...         ...  ...\n",
       "44   0.000000    lambdaMi   44\n",
       "45   0.000000    lambdaMi   45\n",
       "46   0.000000    lambdaMi   46\n",
       "47   0.000000    lambdaMi   47\n",
       "48   0.000000    lambdaMi   48\n",
       "\n",
       "[99 rows x 3 columns]"
      ]
     },
     "execution_count": 73,
     "metadata": {},
     "output_type": "execute_result"
    }
   ],
   "source": [
    "compareBest = pd.DataFrame()\n",
    "compareBest['onePlusOne'] =onePlusOne.bestFitLoss\n",
    "compareBest['lambdaMi'] =lambdaMi.bestFitLoss\n",
    "compareBest['Ind'] = compareBest.reset_index().index\n",
    "test = pd.DataFrame()\n",
    "test[\"Loss\"]=compareBest.onePlusOne.append(compareBest.lambdaMi)\n",
    "one =[\"onePlusOne\"]*len(compareBest.onePlusOne)+[\"lambdaMi\"]*len(compareBest.onePlusOne)\n",
    "test[\"Algorithm\"] = one\n",
    "zeroToN =[i for i in range(len(compareBest.onePlusOne))]*2\n",
    "test[\"Ind\"] = pd.Series(zeroToN)\n",
    "tes.head()"
   ]
  },
  {
   "cell_type": "code",
   "execution_count": 75,
   "metadata": {},
   "outputs": [
    {
     "data": {
      "text/plain": [
       "(0, 30)"
      ]
     },
     "execution_count": 75,
     "metadata": {},
     "output_type": "execute_result"
    },
    {
     "data": {
      "image/png": "[encoded data removed]",
      "text/plain": [
       "<Figure size 432x288 with 1 Axes>"
      ]
     },
     "metadata": {
      "needs_background": "light"
     },
     "output_type": "display_data"
    }
   ],
   "source": [
    "sns.lineplot(x=\"Ind\",y=\"Loss\", hue=\"Algorithm\", data=test)\n",
    "# sns.lineplot(data=compareBest.onePlusOne, color=\"g\")\n",
    "# sns.lineplot(data=compareBest.lambdaMi, color=\"b\", ax=ax2)# ax2 = plt.twinx()\n",
    "plt.ylim(0,13)\n",
    "plt.xlim(0,30)\n",
    "# ax2.set(xlabel='Iteracja', ylabel='Najlepszy wynik')\n",
    "# ax =sns.lineplot(x=\"Ind\", y=\"\")"
   ]
  },
  {
   "cell_type": "code",
   "execution_count": 13,
   "metadata": {},
   "outputs": [
    {
     "data": {
      "text/html": [
       "<div>\n",
       "<style scoped>\n",
       "    .dataframe tbody tr th:only-of-type {\n",
       "        vertical-align: middle;\n",
       "    }\n",
       "\n",
       "    .dataframe tbody tr th {\n",
       "        vertical-align: top;\n",
       "    }\n",
       "\n",
       "    .dataframe thead th {\n",
       "        text-align: right;\n",
       "    }\n",
       "</style>\n",
       "<table border=\"1\" class=\"dataframe\">\n",
       "  <thead>\n",
       "    <tr style=\"text-align: right;\">\n",
       "      <th></th>\n",
       "      <th>onePlusOne</th>\n",
       "      <th>lambdaMi</th>\n",
       "      <th>Ind</th>\n",
       "    </tr>\n",
       "  </thead>\n",
       "  <tbody>\n",
       "    <tr>\n",
       "      <th>0</th>\n",
       "      <td>1034.843821</td>\n",
       "      <td>209.343198</td>\n",
       "      <td>0</td>\n",
       "    </tr>\n",
       "    <tr>\n",
       "      <th>1</th>\n",
       "      <td>899.595810</td>\n",
       "      <td>114.495626</td>\n",
       "      <td>1</td>\n",
       "    </tr>\n",
       "    <tr>\n",
       "      <th>2</th>\n",
       "      <td>781.870591</td>\n",
       "      <td>78.320925</td>\n",
       "      <td>2</td>\n",
       "    </tr>\n",
       "    <tr>\n",
       "      <th>3</th>\n",
       "      <td>682.971123</td>\n",
       "      <td>61.352796</td>\n",
       "      <td>3</td>\n",
       "    </tr>\n",
       "    <tr>\n",
       "      <th>4</th>\n",
       "      <td>563.888353</td>\n",
       "      <td>54.974184</td>\n",
       "      <td>4</td>\n",
       "    </tr>\n",
       "  </tbody>\n",
       "</table>\n",
       "</div>"
      ],
      "text/plain": [
       "    onePlusOne    lambdaMi  Ind\n",
       "0  1034.843821  209.343198    0\n",
       "1   899.595810  114.495626    1\n",
       "2   781.870591   78.320925    2\n",
       "3   682.971123   61.352796    3\n",
       "4   563.888353   54.974184    4"
      ]
     },
     "execution_count": 13,
     "metadata": {},
     "output_type": "execute_result"
    }
   ],
   "source": [
    "compareAlg = pd.DataFrame()\n",
    "compareAlg['onePlusOne'] =onePlusOne.envLoss\n",
    "compareAlg['lambdaMi'] =lambdaMi.envLoss\n",
    "compareAlg['Ind'] = compareAlg.reset_index().index\n",
    "compareAlg.head()"
   ]
  },
  {
   "cell_type": "code",
   "execution_count": 14,
   "metadata": {},
   "outputs": [
    {
     "data": {
      "text/plain": [
       "<matplotlib.axes._subplots.AxesSubplot at 0x7f7f1bb46d30>"
      ]
     },
     "execution_count": 14,
     "metadata": {},
     "output_type": "execute_result"
    },
    {
     "data": {
      "image/png": "[encoded data removed]",
      "text/plain": [
       "<Figure size 432x288 with 2 Axes>"
      ]
     },
     "metadata": {
      "needs_background": "light"
     },
     "output_type": "display_data"
    }
   ],
   "source": [
    "sns.lineplot(data=compareAlg.onePlusOne, color=\"g\")\n",
    "ax2 = plt.twinx()\n",
    "sns.lineplot(data=compareAlg.lambdaMi, color=\"b\", ax=ax2)"
   ]
  },
  {
   "cell_type": "code",
   "execution_count": null,
   "metadata": {},
   "outputs": [],
   "source": []
  }
 ],
 "metadata": {
  "kernelspec": {
   "display_name": "studia",
   "language": "python",
   "name": "studia"
  },
  "language_info": {
   "codemirror_mode": {
    "name": "ipython",
    "version": 3
   },
   "file_extension": ".py",
   "mimetype": "text/x-python",
   "name": "python",
   "nbconvert_exporter": "python",
   "pygments_lexer": "ipython3",
   "version": "3.7.3"
  }
 },
 "nbformat": 4,
 "nbformat_minor": 2
}
