{
 "cells": [
  {
   "cell_type": "code",
   "execution_count": 5,
   "metadata": {},
   "outputs": [],
   "source": [
    "import pandas as pd\n",
    "import seaborn as sns\n",
    "import matplotlib.pyplot as plt"
   ]
  },
  {
   "cell_type": "code",
   "execution_count": 9,
   "metadata": {},
   "outputs": [
    {
     "data": {
      "text/html": [
       "<div>\n",
       "<style scoped>\n",
       "    .dataframe tbody tr th:only-of-type {\n",
       "        vertical-align: middle;\n",
       "    }\n",
       "\n",
       "    .dataframe tbody tr th {\n",
       "        vertical-align: top;\n",
       "    }\n",
       "\n",
       "    .dataframe thead th {\n",
       "        text-align: right;\n",
       "    }\n",
       "</style>\n",
       "<table border=\"1\" class=\"dataframe\">\n",
       "  <thead>\n",
       "    <tr style=\"text-align: right;\">\n",
       "      <th></th>\n",
       "      <th>envLoss</th>\n",
       "      <th>bestFit</th>\n",
       "      <th>bestFitLoss</th>\n",
       "    </tr>\n",
       "  </thead>\n",
       "  <tbody>\n",
       "    <tr>\n",
       "      <th>0</th>\n",
       "      <td>973.658641</td>\n",
       "      <td>A: 6, 9, \\nB: 1, 2, 4, 5, 7, 8, \\n</td>\n",
       "      <td>11.045361</td>\n",
       "    </tr>\n",
       "    <tr>\n",
       "      <th>1</th>\n",
       "      <td>838.255009</td>\n",
       "      <td>A: 8, 10, \\nB: 1, 2, 3, 4, 5, 6, 7, \\n</td>\n",
       "      <td>9.848858</td>\n",
       "    </tr>\n",
       "    <tr>\n",
       "      <th>2</th>\n",
       "      <td>724.117771</td>\n",
       "      <td>A: 6, 9, \\nB: 1, 2, 4, 5, 7, 8, \\n</td>\n",
       "      <td>7.211103</td>\n",
       "    </tr>\n",
       "    <tr>\n",
       "      <th>3</th>\n",
       "      <td>620.429364</td>\n",
       "      <td>A: 1, 2, 3, 9, \\nB: 4, 5, 6, 7, 8, \\n</td>\n",
       "      <td>3.000000</td>\n",
       "    </tr>\n",
       "    <tr>\n",
       "      <th>4</th>\n",
       "      <td>523.532452</td>\n",
       "      <td>A: 1, 2, 3, 9, \\nB: 4, 5, 6, 7, 8, \\n</td>\n",
       "      <td>3.000000</td>\n",
       "    </tr>\n",
       "  </tbody>\n",
       "</table>\n",
       "</div>"
      ],
      "text/plain": [
       "      envLoss                                 bestFit  bestFitLoss\n",
       "0  973.658641      A: 6, 9, \\nB: 1, 2, 4, 5, 7, 8, \\n    11.045361\n",
       "1  838.255009  A: 8, 10, \\nB: 1, 2, 3, 4, 5, 6, 7, \\n     9.848858\n",
       "2  724.117771      A: 6, 9, \\nB: 1, 2, 4, 5, 7, 8, \\n     7.211103\n",
       "3  620.429364   A: 1, 2, 3, 9, \\nB: 4, 5, 6, 7, 8, \\n     3.000000\n",
       "4  523.532452   A: 1, 2, 3, 9, \\nB: 4, 5, 6, 7, 8, \\n     3.000000"
      ]
     },
     "execution_count": 9,
     "metadata": {},
     "output_type": "execute_result"
    }
   ],
   "source": [
    "onePlusOne = pd.read_csv('onePlusOne.csv')\n",
    "lambdaMi = pd.read_csv('lambdaMi.csv')\n",
    "onePlusOne.head()"
   ]
  },
  {
   "cell_type": "code",
   "execution_count": 7,
   "metadata": {},
   "outputs": [
    {
     "data": {
      "text/html": [
       "<div>\n",
       "<style scoped>\n",
       "    .dataframe tbody tr th:only-of-type {\n",
       "        vertical-align: middle;\n",
       "    }\n",
       "\n",
       "    .dataframe tbody tr th {\n",
       "        vertical-align: top;\n",
       "    }\n",
       "\n",
       "    .dataframe thead th {\n",
       "        text-align: right;\n",
       "    }\n",
       "</style>\n",
       "<table border=\"1\" class=\"dataframe\">\n",
       "  <thead>\n",
       "    <tr style=\"text-align: right;\">\n",
       "      <th></th>\n",
       "      <th>onePlusOne</th>\n",
       "      <th>lambdaMi</th>\n",
       "      <th>Ind</th>\n",
       "    </tr>\n",
       "  </thead>\n",
       "  <tbody>\n",
       "    <tr>\n",
       "      <th>0</th>\n",
       "      <td>973.658641</td>\n",
       "      <td>684.918880</td>\n",
       "      <td>0</td>\n",
       "    </tr>\n",
       "    <tr>\n",
       "      <th>1</th>\n",
       "      <td>838.255009</td>\n",
       "      <td>481.169379</td>\n",
       "      <td>1</td>\n",
       "    </tr>\n",
       "    <tr>\n",
       "      <th>2</th>\n",
       "      <td>724.117771</td>\n",
       "      <td>368.432302</td>\n",
       "      <td>2</td>\n",
       "    </tr>\n",
       "    <tr>\n",
       "      <th>3</th>\n",
       "      <td>620.429364</td>\n",
       "      <td>341.919728</td>\n",
       "      <td>3</td>\n",
       "    </tr>\n",
       "    <tr>\n",
       "      <th>4</th>\n",
       "      <td>523.532452</td>\n",
       "      <td>320.756403</td>\n",
       "      <td>4</td>\n",
       "    </tr>\n",
       "  </tbody>\n",
       "</table>\n",
       "</div>"
      ],
      "text/plain": [
       "   onePlusOne    lambdaMi  Ind\n",
       "0  973.658641  684.918880    0\n",
       "1  838.255009  481.169379    1\n",
       "2  724.117771  368.432302    2\n",
       "3  620.429364  341.919728    3\n",
       "4  523.532452  320.756403    4"
      ]
     },
     "execution_count": 7,
     "metadata": {},
     "output_type": "execute_result"
    }
   ],
   "source": [
    "compareAlg = pd.DataFrame()\n",
    "compareAlg['onePlusOne'] =onePlusOne.envLoss\n",
    "compareAlg['lambdaMi'] =lambdaMi.envLoss\n",
    "compareAlg['Ind'] = compareAlg.reset_index().index\n",
    "compareAlg.head()"
   ]
  },
  {
   "cell_type": "code",
   "execution_count": 4,
   "metadata": {},
   "outputs": [
    {
     "data": {
      "text/plain": [
       "<matplotlib.axes._subplots.AxesSubplot at 0x7f7f1d409e80>"
      ]
     },
     "execution_count": 4,
     "metadata": {},
     "output_type": "execute_result"
    },
    {
     "data": {
      "image/png": "[encoded data removed]",
      "text/plain": [
       "<Figure size 432x288 with 2 Axes>"
      ]
     },
     "metadata": {
      "needs_background": "light"
     },
     "output_type": "display_data"
    }
   ],
   "source": [
    "sns.lineplot(data=compareAlg.onePlusOne, color=\"g\")\n",
    "ax2 = plt.twinx()\n",
    "sns.lineplot(data=compareAlg.lambdaMi, color=\"b\", ax=ax2)"
   ]
  },
  {
   "cell_type": "code",
   "execution_count": null,
   "metadata": {},
   "outputs": [],
   "source": []
  }
 ],
 "metadata": {
  "kernelspec": {
   "display_name": "studia",
   "language": "python",
   "name": "studia"
  },
  "language_info": {
   "codemirror_mode": {
    "name": "ipython",
    "version": 3
   },
   "file_extension": ".py",
   "mimetype": "text/x-python",
   "name": "python",
   "nbconvert_exporter": "python",
   "pygments_lexer": "ipython3",
   "version": "3.7.3"
  }
 },
 "nbformat": 4,
 "nbformat_minor": 2
}
